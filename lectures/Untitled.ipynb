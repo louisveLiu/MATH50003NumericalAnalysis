{
 "cells": [
  {
   "cell_type": "code",
   "execution_count": 12,
   "id": "7d056833",
   "metadata": {},
   "outputs": [],
   "source": [
    "using ColorBitstring\n",
    "using Test\n",
    "using SetRounding"
   ]
  },
  {
   "cell_type": "code",
   "execution_count": 2,
   "id": "97814111",
   "metadata": {},
   "outputs": [
    {
     "name": "stdout",
     "output_type": "stream",
     "text": [
      "\u001b[31m0\u001b[0m\u001b[32m01111111111\u001b[0m\u001b[34m0100110011001100110011001100110011001100110011001101\u001b[0m"
     ]
    }
   ],
   "source": [
    "printbits(1.3)"
   ]
  },
  {
   "cell_type": "code",
   "execution_count": 3,
   "id": "db907d1b",
   "metadata": {},
   "outputs": [
    {
     "data": {
      "text/plain": [
       "\"0011111111110100110011001100110011001100110011001100110011001101\""
      ]
     },
     "execution_count": 3,
     "metadata": {},
     "output_type": "execute_result"
    }
   ],
   "source": [
    "bitstring(1.3)"
   ]
  },
  {
   "cell_type": "code",
   "execution_count": 4,
   "id": "65a316f1",
   "metadata": {},
   "outputs": [
    {
     "data": {
      "text/plain": [
       "Float16(0.3333)"
      ]
     },
     "execution_count": 4,
     "metadata": {},
     "output_type": "execute_result"
    }
   ],
   "source": [
    "x = Float16(1/3)"
   ]
  },
  {
   "cell_type": "code",
   "execution_count": 5,
   "id": "8f2ce640",
   "metadata": {},
   "outputs": [
    {
     "name": "stdout",
     "output_type": "stream",
     "text": [
      "\u001b[31m0\u001b[0m\u001b[32m01101\u001b[0m\u001b[34m0101010101\u001b[0m"
     ]
    }
   ],
   "source": [
    "printbits(x)"
   ]
  },
  {
   "cell_type": "code",
   "execution_count": 8,
   "id": "5937eb65",
   "metadata": {},
   "outputs": [
    {
     "data": {
      "text/plain": [
       "Float16(0.3333)"
      ]
     },
     "execution_count": 8,
     "metadata": {},
     "output_type": "execute_result"
    }
   ],
   "source": [
    "bts = 0b0011010101010101\n",
    "reinterpret(Float16, bts)"
   ]
  },
  {
   "cell_type": "code",
   "execution_count": 29,
   "id": "dd5c2cdb",
   "metadata": {},
   "outputs": [
    {
     "ename": "LoadError",
     "evalue": "syntax: invalid numeric constant \"0b\"",
     "output_type": "error",
     "traceback": [
      "syntax: invalid numeric constant \"0b\"",
      "",
      "Stacktrace:",
      " [1] top-level scope",
      "   @ In[29]:3"
     ]
    }
   ],
   "source": [
    "t, Q, S = 15, 5, 10\n",
    "s = 1\n",
    "q = Int(0b)\n",
    "sig = 2.0^(-S)*(ob)\n",
    "Float16(2.0^(q-t)*sig)"
   ]
  },
  {
   "cell_type": "code",
   "execution_count": 17,
   "id": "c4c0f393",
   "metadata": {},
   "outputs": [
    {
     "name": "stdout",
     "output_type": "stream",
     "text": [
      "\u001b[31m0\u001b[0m\u001b[32m01111111101\u001b[0m\u001b[34m0101010101010101010101010101010101010101010101010101\u001b[0m"
     ]
    }
   ],
   "source": [
    "printbits(1/3)"
   ]
  },
  {
   "cell_type": "code",
   "execution_count": 18,
   "id": "1eb2de48",
   "metadata": {},
   "outputs": [
    {
     "data": {
      "text/plain": [
       "\"0011111111010101010101010101010101010101010101010101010101010101\""
      ]
     },
     "execution_count": 18,
     "metadata": {},
     "output_type": "execute_result"
    }
   ],
   "source": [
    "bitstring(1/3)"
   ]
  },
  {
   "cell_type": "code",
   "execution_count": 32,
   "id": "fe99e45a",
   "metadata": {},
   "outputs": [
    {
     "name": "stdout",
     "output_type": "stream",
     "text": [
      "\u001b[31m0\u001b[0m\u001b[32m11111111111\u001b[0m\u001b[34m1000000000000000000000000000000000000000000000000000\u001b[0m"
     ]
    }
   ],
   "source": [
    "printbits(0/0.0)"
   ]
  },
  {
   "cell_type": "code",
   "execution_count": 33,
   "id": "c3ec987a",
   "metadata": {},
   "outputs": [
    {
     "data": {
      "text/plain": [
       "NaN"
      ]
     },
     "execution_count": 33,
     "metadata": {},
     "output_type": "execute_result"
    }
   ],
   "source": [
    "0.0/0.0"
   ]
  },
  {
   "cell_type": "code",
   "execution_count": 34,
   "id": "ca87060c",
   "metadata": {},
   "outputs": [
    {
     "data": {
      "text/plain": [
       "Inf"
      ]
     },
     "execution_count": 34,
     "metadata": {},
     "output_type": "execute_result"
    }
   ],
   "source": [
    "1.0/0.0"
   ]
  },
  {
   "cell_type": "code",
   "execution_count": 35,
   "id": "6aeefefe",
   "metadata": {},
   "outputs": [
    {
     "data": {
      "text/plain": [
       "-Inf"
      ]
     },
     "execution_count": 35,
     "metadata": {},
     "output_type": "execute_result"
    }
   ],
   "source": [
    "-1.0/0.0"
   ]
  },
  {
   "cell_type": "code",
   "execution_count": 45,
   "id": "00d8139e",
   "metadata": {},
   "outputs": [
    {
     "ename": "LoadError",
     "evalue": "bitcast: expected primitive type value for second argument",
     "output_type": "error",
     "traceback": [
      "bitcast: expected primitive type value for second argument",
      "",
      "Stacktrace:",
      " [1] reinterpret(#unused#::Type{Float64}, x::BigInt)",
      "   @ Base ./essentials.jl:438",
      " [2] top-level scope",
      "   @ In[45]:3"
     ]
    }
   ],
   "source": [
    "x = 0111111111111000000000000000000000000000000000000000000000000000\n",
    "\n",
    "reinterpret(Float64, x)"
   ]
  },
  {
   "cell_type": "code",
   "execution_count": 49,
   "id": "93350f51",
   "metadata": {},
   "outputs": [
    {
     "data": {
      "text/plain": [
       "Float16(0.0004883)"
      ]
     },
     "execution_count": 49,
     "metadata": {},
     "output_type": "execute_result"
    }
   ],
   "source": [
    "y = Float16(2^-11)"
   ]
  },
  {
   "cell_type": "code",
   "execution_count": 50,
   "id": "7f581f15",
   "metadata": {},
   "outputs": [
    {
     "data": {
      "text/plain": [
       "\"2^-11 * (1.0000000000)_2\""
      ]
     },
     "execution_count": 50,
     "metadata": {},
     "output_type": "execute_result"
    }
   ],
   "source": [
    "binarystring(y)"
   ]
  },
  {
   "cell_type": "code",
   "execution_count": 51,
   "id": "9ad37481",
   "metadata": {},
   "outputs": [
    {
     "data": {
      "text/plain": [
       "2.220446049250313e-16"
      ]
     },
     "execution_count": 51,
     "metadata": {},
     "output_type": "execute_result"
    }
   ],
   "source": [
    "1.1 + 0.1 -1.2"
   ]
  },
  {
   "cell_type": "code",
   "execution_count": 6,
   "id": "724ed930",
   "metadata": {},
   "outputs": [
    {
     "data": {
      "text/plain": [
       "\u001b[32m\u001b[1mTest Passed\u001b[22m\u001b[39m"
      ]
     },
     "execution_count": 6,
     "metadata": {},
     "output_type": "execute_result"
    }
   ],
   "source": [
    "@test Float16(π, RoundDown) < π < Float16(π, RoundUp)"
   ]
  },
  {
   "cell_type": "code",
   "execution_count": 16,
   "id": "e22d7a07",
   "metadata": {},
   "outputs": [
    {
     "data": {
      "text/plain": [
       "(0.3333333f0, 0.33333334f0)"
      ]
     },
     "execution_count": 16,
     "metadata": {},
     "output_type": "execute_result"
    }
   ],
   "source": [
    "x = Float32(1)\n",
    "setrounding(Float32, RoundDown) do\n",
    "    x/3\n",
    "end,\n",
    "setrounding(Float32, RoundUp) do\n",
    "    x/3\n",
    "end"
   ]
  },
  {
   "cell_type": "code",
   "execution_count": 26,
   "id": "8fccdd1a",
   "metadata": {},
   "outputs": [
    {
     "data": {
      "text/plain": [
       "Talor_expension (generic function with 1 method)"
      ]
     },
     "execution_count": 26,
     "metadata": {},
     "output_type": "execute_result"
    }
   ],
   "source": [
    "function Talor_expension(x, n)\n",
    "    iterate = 1\n",
    "    sum = 0\n",
    "    for i =0:n\n",
    "        term += sum\n",
    "        sum *= x/n\n",
    "    end\n",
    "    return sum\n",
    "end"
   ]
  },
  {
   "cell_type": "code",
   "execution_count": null,
   "id": "6d5b10f4",
   "metadata": {},
   "outputs": [],
   "source": []
  }
 ],
 "metadata": {
  "kernelspec": {
   "display_name": "Julia 1.8.5",
   "language": "julia",
   "name": "julia-1.8"
  },
  "language_info": {
   "file_extension": ".jl",
   "mimetype": "application/julia",
   "name": "julia",
   "version": "1.8.5"
  }
 },
 "nbformat": 4,
 "nbformat_minor": 5
}
