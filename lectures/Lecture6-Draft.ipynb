{
 "cells": [
  {
   "cell_type": "code",
   "execution_count": 94,
   "id": "22362867",
   "metadata": {},
   "outputs": [
    {
     "data": {
      "text/plain": [
       "exp_taylor_fast (generic function with 1 method)"
      ]
     },
     "execution_count": 94,
     "metadata": {},
     "output_type": "execute_result"
    }
   ],
   "source": [
    "import Base: +, -, *, /, exp, ^, show\n",
    "\n",
    "# user Taylor series exp(x) ≈ Σ_{k=0}^n x^k/k!\n",
    "function exp_taylor_fast(x, n)\n",
    "    ret = 0\n",
    "    summand = 1\n",
    "    for k = 0:n\n",
    "        ret += summand\n",
    "        summand *= x/(k+1) # uses Float64 arithmetic\n",
    "    end\n",
    "    return ret\n",
    "end\n",
    "\n"
   ]
  },
  {
   "cell_type": "code",
   "execution_count": 99,
   "id": "3b5f3bc1",
   "metadata": {},
   "outputs": [
    {
     "data": {
      "text/plain": [
       "show (generic function with 302 methods)"
      ]
     },
     "execution_count": 99,
     "metadata": {},
     "output_type": "execute_result"
    }
   ],
   "source": [
    "# Dual(a,b) represents a + b*ε\n",
    "struct Dual{T}\n",
    "    a::T\n",
    "    b::T\n",
    "end\n",
    "\n",
    "function Dual(a, b)\n",
    "    T = promote_type(typeof(a), typeof(b))\n",
    "    Dual{T}(a, b)\n",
    "end\n",
    "\n",
    "const ε = Dual(0,1)\n",
    "\n",
    "\n",
    "\n",
    "+(x::Real, y::Dual) = Dual(x + y.a, y.b) \n",
    "+(x::Dual, y::Real) = y + x\n",
    "*(x::Real, y::Dual) = Dual(x*y.a, x*y.b)\n",
    "/(y::Dual, k::Real) = Dual(y.a/k, y.b/k)\n",
    "# (a+b*ε)*(c+d*ε) = a*c + (b*c + a*d)ε\n",
    "*(x::Dual, y::Dual) = Dual(x.a*y.a, x.b*y.a + x.a*y.b)\n",
    "+(x::Dual, y::Dual) = Dual(x.a + y.a, x.b + y.b)\n",
    "-(x::Dual) = Dual(-x.a, -x.b)\n",
    "\n",
    "function ^(x::Dual, k::Number)\n",
    "    if k < 0\n",
    "        error(\"Not implemented\")\n",
    "    elseif k == 1\n",
    "        x\n",
    "    else\n",
    "        x^(k-1) * x\n",
    "    end\n",
    "end\n",
    "\n",
    "exp(x::Dual) = Dual(exp(x.a), x.b*exp(x.a))\n",
    "    \n",
    "show(io::IO, x::Dual) = print(io, \"$(x.a) + $(x.b)ε\")"
   ]
  },
  {
   "cell_type": "code",
   "execution_count": 105,
   "id": "a091f9a4",
   "metadata": {},
   "outputs": [
    {
     "data": {
      "text/html": [
       "*(z::<b>Complex</b>, w::<b>Complex</b>) in Base at <a href=\"https://github.com/JuliaLang/julia/tree/d0156b560157dde8059a53294dae1e4a3d881ea8/base/complex.jl#L290\" target=\"_blank\">complex.jl:290</a>"
      ],
      "text/plain": [
       "*(z::Complex, w::Complex) in Base at complex.jl:290"
      ]
     },
     "execution_count": 105,
     "metadata": {},
     "output_type": "execute_result"
    }
   ],
   "source": [
    "x = 1+2im\n",
    "@which x * x"
   ]
  },
  {
   "cell_type": "code",
   "execution_count": null,
   "id": "5ce4fde4",
   "metadata": {},
   "outputs": [],
   "source": [
    "exp_taylor_fast(1 + ε, 100).b - ℯ"
   ]
  },
  {
   "cell_type": "code",
   "execution_count": 35,
   "id": "7ca2cd9f",
   "metadata": {},
   "outputs": [
    {
     "data": {
      "text/plain": [
       "-2.161858692062424e-9"
      ]
     },
     "execution_count": 35,
     "metadata": {},
     "output_type": "execute_result"
    }
   ],
   "source": [
    "# compare with CD\n",
    "h = 0.0000001; \n",
    "(exp_taylor_fast(1 + h, 100)-exp_taylor_fast(1-h, 100))/(2h) - ℯ"
   ]
  },
  {
   "cell_type": "code",
   "execution_count": 50,
   "id": "c310ad62",
   "metadata": {},
   "outputs": [
    {
     "data": {
      "text/plain": [
       "(Dual{Float64}(0.000617978989331094, -0.009132562840255837), -0.009132562839102819)"
      ]
     },
     "execution_count": 50,
     "metadata": {},
     "output_type": "execute_result"
    }
   ],
   "source": [
    "\n",
    "f = x -> exp(-exp(x)^2)\n",
    "f(1 + ε), (f(1+h)-f(1-h))/2h\n"
   ]
  },
  {
   "cell_type": "code",
   "execution_count": 68,
   "id": "5925c509",
   "metadata": {},
   "outputs": [
    {
     "data": {
      "text/plain": [
       "Dual{Float64}(1.3097995858041505, -6.530413055054338e-227)"
      ]
     },
     "execution_count": 68,
     "metadata": {},
     "output_type": "execute_result"
    }
   ],
   "source": [
    "x = 1.1 + ε\n",
    "for k = 1:1002\n",
    "    x = exp((-1)^k*x)\n",
    "end\n",
    "x"
   ]
  },
  {
   "cell_type": "code",
   "execution_count": 84,
   "id": "e8c130d4",
   "metadata": {},
   "outputs": [
    {
     "data": {
      "text/plain": [
       "#9 (generic function with 1 method)"
      ]
     },
     "execution_count": 84,
     "metadata": {},
     "output_type": "execute_result"
    }
   ],
   "source": [
    "f = function(x)\n",
    "    for k = 1:100\n",
    "    x = exp((-1)^k*x)\n",
    "end\n",
    "x\n",
    "end"
   ]
  },
  {
   "cell_type": "code",
   "execution_count": 91,
   "id": "35bc0e8c",
   "metadata": {},
   "outputs": [
    {
     "data": {
      "text/plain": [
       "3.4661291152429339758618553106255811198336646200445643364869782506019461284327150252262554876122241322937671557173832070087814859940610030070259187901426072537756382592305870314944808098528646604483454950518751001364916215273685988725811928353483469173836859318706264360358130250060059971551260970085548558134671947272919243967147668971829025586532862260639821427482066481045556175335519320728215797488218511829161825684689110522852016277282296582579662172807639211805546038335323875630935338545436164361784694322377648195773739607898035460704849738884760684033043765404997552966704315269302612273705558171049482742689048036630975676237494595482958547402628964614698113744739584109855410082905765253335214064738524660426986970076355259745151155165728671326900364317521835739168214188407792566759466781014791868281128176224493642129079263374917727012247203324961402566656201810371627355933089098039511960004714152148618085394637827339271168658374692671497500504674800868438907283790027827229862349858880275104841301202383307221775252675809365498294329553440972099451981687029103564135765252773343774712936079915392065229739589435409739662128062524300244380733777631737385685125823158281456500244976938551928678970553666263596271493302751429334537690747910829073037747206243585655228760138736812948337206399786894940202103593384502331540852784063460400818997682433570604103498367985096405980559271398735433685203731461936795986295271208286175149937226627069484426170237304424490051422219834156748320568073534551508610567020727844181323762906900750235892957970880960149361947630687098552945960584398671092245670172060722130039001013761840513919537532289084008759653815753669749419715208860890716908959403975357825146488394812240254140283121623396843844337406846451966427936491972013939364850592642069102777910528408742011153213926929969667584994987904518475101117695636709828486746037858083562580578195629854874991388371105744859287348696256354337028389062892298511501424770467420854230993327465238511849363050126849120878386080951868801000857300203773246486273979444031058782615841473376911315175978921708522995298194501777026093795051576232719147249224270734093609273318203279936660542136588237514548607216906478402631398269680468839650665665388916903066638147387014389485045839245954985986606251086058048318758523032551345293309062605715339253245934037600569759401499759081246513301496946355776717629933214394030352668899969314256459050631870881652504177725974601439887750714678600167665809168282418012005440976010943448158037395170413524398605752375224727299596365794796657649007110319392067732852275804248324346569836510354454436600179539568712938144086136373603633919128796974643565112672496033916107512210721989502150294990872229785173823016228391642117770948290655477717004378856384269904738474361605321375212535770741378182349363535965508132977801760112011389932684025363693994721194109993604792722825189772643249496439351215689185479805044786282503612237008509353459309275664681916801250754238420294562723e-23"
      ]
     },
     "execution_count": 91,
     "metadata": {},
     "output_type": "execute_result"
    }
   ],
   "source": [
    "cd = (setprecision(10_000) do\n",
    "    h = big(2.0)^(-200)\n",
    "    (f(big(1.0)+h)-f(big(1.0)))/h\n",
    "end)"
   ]
  },
  {
   "cell_type": "code",
   "execution_count": 88,
   "id": "06fe4730",
   "metadata": {},
   "outputs": [
    {
     "data": {
      "text/plain": [
       "Dual{Float64}(1.3097995858041505, 3.466129115242939e-23)"
      ]
     },
     "execution_count": 88,
     "metadata": {},
     "output_type": "execute_result"
    }
   ],
   "source": [
    "f(1 + ε)"
   ]
  },
  {
   "cell_type": "code",
   "execution_count": 93,
   "id": "1fb7eaa9",
   "metadata": {},
   "outputs": [
    {
     "data": {
      "text/plain": [
       "2.671784500968620893204614155730170747930444687512460310304847179832720182196829e-61"
      ]
     },
     "execution_count": 93,
     "metadata": {},
     "output_type": "execute_result"
    }
   ],
   "source": [
    "(f(big(1) + ε).b - cd)/cd"
   ]
  },
  {
   "cell_type": "code",
   "execution_count": null,
   "id": "ab79471e",
   "metadata": {},
   "outputs": [],
   "source": []
  }
 ],
 "metadata": {
  "kernelspec": {
   "display_name": "Julia 1.8.3-pre",
   "language": "julia",
   "name": "julia-1.8"
  },
  "language_info": {
   "file_extension": ".jl",
   "mimetype": "application/julia",
   "name": "julia",
   "version": "1.8.3"
  }
 },
 "nbformat": 4,
 "nbformat_minor": 5
}
